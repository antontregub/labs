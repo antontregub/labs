{
  "nbformat": 4,
  "nbformat_minor": 0,
  "metadata": {
    "colab": {
      "name": "Text.ipynb",
      "provenance": [],
      "authorship_tag": "ABX9TyNJVLYw9O7hpmY5j6Nd3h2j",
      "include_colab_link": true
    },
    "kernelspec": {
      "name": "python3",
      "display_name": "Python 3"
    }
  },
  "cells": [
    {
      "cell_type": "markdown",
      "metadata": {
        "id": "view-in-github",
        "colab_type": "text"
      },
      "source": [
        "<a href=\"https://colab.research.google.com/github/antontregub/labs/blob/main/Text.ipynb\" target=\"_parent\"><img src=\"https://colab.research.google.com/assets/colab-badge.svg\" alt=\"Open In Colab\"/></a>"
      ]
    },
    {
      "cell_type": "code",
      "metadata": {
        "id": "bm28zYT9rAbT"
      },
      "source": [
        "from sklearn.datasets import fetch_20newsgroups"
      ],
      "execution_count": 31,
      "outputs": []
    },
    {
      "cell_type": "code",
      "metadata": {
        "id": "df4aJSqBuWvF"
      },
      "source": [
        "  categories = ['sci.space', 'rec.autos']\r\n",
        "  data_train = fetch_20newsgroups(subset='train', categories=categories)"
      ],
      "execution_count": 33,
      "outputs": []
    },
    {
      "cell_type": "code",
      "metadata": {
        "colab": {
          "base_uri": "https://localhost:8080/"
        },
        "id": "IISCHleRzQjG",
        "outputId": "5ff511f1-a065-4d47-b85b-893e5dc56bd9"
      },
      "source": [
        "from sklearn.feature_extraction.text import CountVectorizer\r\n",
        "count_vect = CountVectorizer( token_pattern=r'(?u)\\b[a-zA-Z]\\w+\\b',\r\n",
        "                              ngram_range=(1, 2),\r\n",
        "                              stop_words='english' )\r\n",
        "X_train_counts = count_vect.fit_transform(data_train.data)\r\n",
        "X_train_counts.shape"
      ],
      "execution_count": 34,
      "outputs": [
        {
          "output_type": "execute_result",
          "data": {
            "text/plain": [
              "(1187, 123314)"
            ]
          },
          "metadata": {
            "tags": []
          },
          "execution_count": 34
        }
      ]
    },
    {
      "cell_type": "code",
      "metadata": {
        "colab": {
          "base_uri": "https://localhost:8080/",
          "height": 35
        },
        "id": "HqDuPyTDuWyf",
        "outputId": "84c9fd09-10db-4e6c-c51f-20bf8767acb8"
      },
      "source": [
        "from sklearn.feature_extraction.text import TfidfVectorizer\r\n",
        "vectorize = TfidfVectorizer(max_df=500, min_df=10)\r\n",
        "tfidf_train = vectorize.fit_transform(data_train.data)\r\n",
        "vectorize.get_feature_names()[10]"
      ],
      "execution_count": 35,
      "outputs": [
        {
          "output_type": "execute_result",
          "data": {
            "application/vnd.google.colaboratory.intrinsic+json": {
              "type": "string"
            },
            "text/plain": [
              "'10'"
            ]
          },
          "metadata": {
            "tags": []
          },
          "execution_count": 35
        }
      ]
    },
    {
      "cell_type": "code",
      "metadata": {
        "colab": {
          "base_uri": "https://localhost:8080/"
        },
        "id": "mwiT9M6nv6wg",
        "outputId": "b323f42f-4d54-4372-8f6a-82757ed1414f"
      },
      "source": [
        "print(tfidf_train.shape)"
      ],
      "execution_count": 36,
      "outputs": [
        {
          "output_type": "stream",
          "text": [
            "(1187, 2938)\n"
          ],
          "name": "stdout"
        }
      ]
    },
    {
      "cell_type": "code",
      "metadata": {
        "id": "wgIsnVe3wF26"
      },
      "source": [
        "from sklearn.linear_model import LogisticRegression\r\n",
        "clf = LogisticRegression().fit(tfidf_train, data_train.target)"
      ],
      "execution_count": 37,
      "outputs": []
    },
    {
      "cell_type": "code",
      "metadata": {
        "colab": {
          "base_uri": "https://localhost:8080/"
        },
        "id": "C0aNUYs6wd0X",
        "outputId": "7d1cc473-8c23-451e-f21d-f60bceea8c8f"
      },
      "source": [
        "data_test = fetch_20newsgroups(subset = 'test', categories=categories, shuffle = True)\r\n",
        "tfidf_test = vectorize.transform(data_test.data)\r\n",
        "predicted = clf.predict(tfidf_test)\r\n",
        "from sklearn.metrics import accuracy_score\r\n",
        "accuracy_score(predicted, data_test.target)"
      ],
      "execution_count": 38,
      "outputs": [
        {
          "output_type": "execute_result",
          "data": {
            "text/plain": [
              "0.9734177215189873"
            ]
          },
          "metadata": {
            "tags": []
          },
          "execution_count": 38
        }
      ]
    },
    {
      "cell_type": "code",
      "metadata": {
        "id": "pM-KqYH5wd23"
      },
      "source": [
        ""
      ],
      "execution_count": 30,
      "outputs": []
    }
  ]
}