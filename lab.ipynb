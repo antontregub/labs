{
  "nbformat": 4,
  "nbformat_minor": 0,
  "metadata": {
    "colab": {
      "name": "lab.ipynb",
      "provenance": [],
      "collapsed_sections": [],
      "authorship_tag": "ABX9TyNI0zI7VwvupBmTfe8aNyUn",
      "include_colab_link": true
    },
    "kernelspec": {
      "name": "python3",
      "display_name": "Python 3"
    }
  },
  "cells": [
    {
      "cell_type": "markdown",
      "metadata": {
        "id": "view-in-github",
        "colab_type": "text"
      },
      "source": [
        "<a href=\"https://colab.research.google.com/github/antontregub/labs/blob/main/lab.ipynb\" target=\"_parent\"><img src=\"https://colab.research.google.com/assets/colab-badge.svg\" alt=\"Open In Colab\"/></a>"
      ]
    },
    {
      "cell_type": "code",
      "metadata": {
        "id": "_KVCQxgJ3190"
      },
      "source": [
        "import pandas as pd\n",
        "import seaborn as sns\n",
        "import numpy as np\n",
        "import matplotlib.pyplot as plt"
      ],
      "execution_count": 168,
      "outputs": []
    },
    {
      "cell_type": "code",
      "metadata": {
        "id": "zkmBny193-Iq"
      },
      "source": [
        "df = pd.read_csv('titanic.csv')\n",
        "df = df.replace('?', np.NaN)"
      ],
      "execution_count": 169,
      "outputs": []
    },
    {
      "cell_type": "code",
      "metadata": {
        "colab": {
          "base_uri": "https://localhost:8080/",
          "height": 229
        },
        "id": "A9giLAcg4OnW",
        "outputId": "d91535e1-f203-45c3-e121-f6d235a73442"
      },
      "source": [
        "df.head(5)"
      ],
      "execution_count": 170,
      "outputs": [
        {
          "output_type": "execute_result",
          "data": {
            "text/html": [
              "<div>\n",
              "<style scoped>\n",
              "    .dataframe tbody tr th:only-of-type {\n",
              "        vertical-align: middle;\n",
              "    }\n",
              "\n",
              "    .dataframe tbody tr th {\n",
              "        vertical-align: top;\n",
              "    }\n",
              "\n",
              "    .dataframe thead th {\n",
              "        text-align: right;\n",
              "    }\n",
              "</style>\n",
              "<table border=\"1\" class=\"dataframe\">\n",
              "  <thead>\n",
              "    <tr style=\"text-align: right;\">\n",
              "      <th></th>\n",
              "      <th>PassengerId</th>\n",
              "      <th>Survived</th>\n",
              "      <th>Pclass</th>\n",
              "      <th>Name</th>\n",
              "      <th>Sex</th>\n",
              "      <th>Age</th>\n",
              "      <th>SibSp</th>\n",
              "      <th>Parch</th>\n",
              "      <th>Ticket</th>\n",
              "      <th>Fare</th>\n",
              "      <th>Cabin</th>\n",
              "      <th>Embarked</th>\n",
              "    </tr>\n",
              "  </thead>\n",
              "  <tbody>\n",
              "    <tr>\n",
              "      <th>0</th>\n",
              "      <td>1</td>\n",
              "      <td>0</td>\n",
              "      <td>3</td>\n",
              "      <td>Braund, Mr. Owen Harris</td>\n",
              "      <td>male</td>\n",
              "      <td>22.0</td>\n",
              "      <td>1</td>\n",
              "      <td>0</td>\n",
              "      <td>A/5 21171</td>\n",
              "      <td>7.2500</td>\n",
              "      <td>NaN</td>\n",
              "      <td>S</td>\n",
              "    </tr>\n",
              "    <tr>\n",
              "      <th>1</th>\n",
              "      <td>2</td>\n",
              "      <td>1</td>\n",
              "      <td>1</td>\n",
              "      <td>Cumings, Mrs. John Bradley (Florence Briggs Th...</td>\n",
              "      <td>female</td>\n",
              "      <td>38.0</td>\n",
              "      <td>1</td>\n",
              "      <td>0</td>\n",
              "      <td>PC 17599</td>\n",
              "      <td>71.2833</td>\n",
              "      <td>C85</td>\n",
              "      <td>C</td>\n",
              "    </tr>\n",
              "    <tr>\n",
              "      <th>2</th>\n",
              "      <td>3</td>\n",
              "      <td>1</td>\n",
              "      <td>3</td>\n",
              "      <td>Heikkinen, Miss. Laina</td>\n",
              "      <td>female</td>\n",
              "      <td>26.0</td>\n",
              "      <td>0</td>\n",
              "      <td>0</td>\n",
              "      <td>STON/O2. 3101282</td>\n",
              "      <td>7.9250</td>\n",
              "      <td>NaN</td>\n",
              "      <td>S</td>\n",
              "    </tr>\n",
              "    <tr>\n",
              "      <th>3</th>\n",
              "      <td>4</td>\n",
              "      <td>1</td>\n",
              "      <td>1</td>\n",
              "      <td>Futrelle, Mrs. Jacques Heath (Lily May Peel)</td>\n",
              "      <td>female</td>\n",
              "      <td>35.0</td>\n",
              "      <td>1</td>\n",
              "      <td>0</td>\n",
              "      <td>113803</td>\n",
              "      <td>53.1000</td>\n",
              "      <td>C123</td>\n",
              "      <td>S</td>\n",
              "    </tr>\n",
              "    <tr>\n",
              "      <th>4</th>\n",
              "      <td>5</td>\n",
              "      <td>0</td>\n",
              "      <td>3</td>\n",
              "      <td>Allen, Mr. William Henry</td>\n",
              "      <td>male</td>\n",
              "      <td>35.0</td>\n",
              "      <td>0</td>\n",
              "      <td>0</td>\n",
              "      <td>373450</td>\n",
              "      <td>8.0500</td>\n",
              "      <td>NaN</td>\n",
              "      <td>S</td>\n",
              "    </tr>\n",
              "  </tbody>\n",
              "</table>\n",
              "</div>"
            ],
            "text/plain": [
              "   PassengerId  Survived  Pclass  ...     Fare Cabin  Embarked\n",
              "0            1         0       3  ...   7.2500   NaN         S\n",
              "1            2         1       1  ...  71.2833   C85         C\n",
              "2            3         1       3  ...   7.9250   NaN         S\n",
              "3            4         1       1  ...  53.1000  C123         S\n",
              "4            5         0       3  ...   8.0500   NaN         S\n",
              "\n",
              "[5 rows x 12 columns]"
            ]
          },
          "metadata": {
            "tags": []
          },
          "execution_count": 170
        }
      ]
    },
    {
      "cell_type": "code",
      "metadata": {
        "colab": {
          "base_uri": "https://localhost:8080/"
        },
        "id": "NzfExUlS4oQm",
        "outputId": "0b0189d4-c016-462b-be51-5d3bdf1f6d80"
      },
      "source": [
        "df.shape"
      ],
      "execution_count": 171,
      "outputs": [
        {
          "output_type": "execute_result",
          "data": {
            "text/plain": [
              "(891, 12)"
            ]
          },
          "metadata": {
            "tags": []
          },
          "execution_count": 171
        }
      ]
    },
    {
      "cell_type": "markdown",
      "metadata": {
        "id": "itPveSwi5KAK"
      },
      "source": [
        "Task 2"
      ]
    },
    {
      "cell_type": "code",
      "metadata": {
        "colab": {
          "base_uri": "https://localhost:8080/"
        },
        "id": "p0CCPq_t42TM",
        "outputId": "80513c1f-3319-494a-cd4a-358991a1f5ab"
      },
      "source": [
        "df.isna().sum()"
      ],
      "execution_count": 172,
      "outputs": [
        {
          "output_type": "execute_result",
          "data": {
            "text/plain": [
              "PassengerId      0\n",
              "Survived         0\n",
              "Pclass           0\n",
              "Name             0\n",
              "Sex              0\n",
              "Age            177\n",
              "SibSp            0\n",
              "Parch            0\n",
              "Ticket           0\n",
              "Fare             0\n",
              "Cabin          687\n",
              "Embarked         2\n",
              "dtype: int64"
            ]
          },
          "metadata": {
            "tags": []
          },
          "execution_count": 172
        }
      ]
    },
    {
      "cell_type": "code",
      "metadata": {
        "id": "wO2dwv6H43EB"
      },
      "source": [
        "df = df.dropna()"
      ],
      "execution_count": 173,
      "outputs": []
    },
    {
      "cell_type": "code",
      "metadata": {
        "colab": {
          "base_uri": "https://localhost:8080/"
        },
        "id": "YssYZAhdbIzm",
        "outputId": "d3514b9b-9172-4a81-d5ae-092094343040"
      },
      "source": [
        "df.isna().sum()"
      ],
      "execution_count": 174,
      "outputs": [
        {
          "output_type": "execute_result",
          "data": {
            "text/plain": [
              "PassengerId    0\n",
              "Survived       0\n",
              "Pclass         0\n",
              "Name           0\n",
              "Sex            0\n",
              "Age            0\n",
              "SibSp          0\n",
              "Parch          0\n",
              "Ticket         0\n",
              "Fare           0\n",
              "Cabin          0\n",
              "Embarked       0\n",
              "dtype: int64"
            ]
          },
          "metadata": {
            "tags": []
          },
          "execution_count": 174
        }
      ]
    },
    {
      "cell_type": "code",
      "metadata": {
        "id": "KmkwGAPuggTD"
      },
      "source": [
        "\r\n",
        "df['Name'] = pd.Categorical(df['Name'])\r\n",
        "df['Sex'] = pd.Categorical(df['Sex'])\r\n",
        "df['Age'] = pd.Categorical(df['Age'])\r\n",
        "df['SibSp'] = pd.Categorical(df['SibSp'])\r\n",
        "df['Parch'] = pd.Categorical(df['Parch'])\r\n",
        "df['Ticket'] = pd.Categorical(df['Ticket'])\r\n",
        "df['Fare'] = pd.Categorical(df['Fare'])\r\n",
        "df['Cabin'] = pd.Categorical(df['Cabin'])\r\n",
        "df['Embarked'] = pd.Categorical(df['Embarked'])"
      ],
      "execution_count": 175,
      "outputs": []
    },
    {
      "cell_type": "markdown",
      "metadata": {
        "id": "r3CnMemR5EC-"
      },
      "source": [
        "Task 3"
      ]
    },
    {
      "cell_type": "code",
      "metadata": {
        "id": "8ddRYt3Y46vD"
      },
      "source": [
        "df_for_viz = df.copy()\n",
        "for column in df_for_viz.select_dtypes(include='category').columns:\n",
        "    df_for_viz[column] = df_for_viz[column].cat.codes"
      ],
      "execution_count": 176,
      "outputs": []
    },
    {
      "cell_type": "markdown",
      "metadata": {
        "id": "k3pF9FUlb6sJ"
      },
      "source": [
        "All-vs-All correlation"
      ]
    },
    {
      "cell_type": "code",
      "metadata": {
        "colab": {
          "base_uri": "https://localhost:8080/",
          "height": 554
        },
        "id": "MUutKbSK4-3r",
        "outputId": "b6f6e31d-53d8-4b88-fe83-3664f052ac15"
      },
      "source": [
        "plt.figure(figsize=(10,8))\n",
        "sns.heatmap(df_for_viz.corr())"
      ],
      "execution_count": 177,
      "outputs": [
        {
          "output_type": "execute_result",
          "data": {
            "text/plain": [
              "<matplotlib.axes._subplots.AxesSubplot at 0x7f28d0787b38>"
            ]
          },
          "metadata": {
            "tags": []
          },
          "execution_count": 177
        },
        {
          "output_type": "display_data",
          "data": {
            "image/png": "[encoded data removed]",
            "text/plain": [
              "<Figure size 720x576 with 2 Axes>"
            ]
          },
          "metadata": {
            "tags": [],
            "needs_background": "light"
          }
        }
      ]
    },
    {
      "cell_type": "markdown",
      "metadata": {
        "id": "b2kq10aNcB0m"
      },
      "source": [
        "\r\n",
        "\r\n",
        "```\r\n",
        "# Distribution plots\r\n",
        "```\r\n",
        "\r\n"
      ]
    },
    {
      "cell_type": "code",
      "metadata": {
        "colab": {
          "base_uri": "https://localhost:8080/",
          "height": 1000
        },
        "id": "8iVhlpiQ4_ne",
        "outputId": "96c730c2-18b6-44c2-fd26-198ebc03b8cf"
      },
      "source": [
        "fig, axes = plt.subplots(nrows=5, ncols=1,figsize=(20,50))\n",
        "fig.tight_layout(pad=10.0)\n",
        "ax_iter = iter(axes.flat)\n",
        "for column in [ 'Pclass', 'Ticket', 'Cabin', 'Embarked']:\n",
        "    ax = next(ax_iter)\n",
        "    a = sns.histplot(df[column],ax=ax)"
      ],
      "execution_count": 178,
      "outputs": [
        {
          "output_type": "display_data",
          "data": {
            "image/png": "[encoded data removed]",
            "text/plain": [
              "<Figure size 1440x3600 with 5 Axes>"
            ]
          },
          "metadata": {
            "tags": [],
            "needs_background": "light"
          }
        }
      ]
    },
    {
      "cell_type": "markdown",
      "metadata": {
        "id": "FWHq92HicLU0"
      },
      "source": [
        "Boxplots conditioned on label"
      ]
    },
    {
      "cell_type": "code",
      "metadata": {
        "colab": {
          "base_uri": "https://localhost:8080/",
          "height": 1000
        },
        "id": "EAakJJu-cbVJ",
        "outputId": "d2f168c5-ea72-46a3-ca22-5d4768bfa53b"
      },
      "source": [
        "fig, axes = plt.subplots(nrows=3, ncols=1,figsize=(12,20))\r\n",
        "ax_iter = iter(axes.flat)\r\n",
        "for column in [ 'Cabin', 'Fare']:\r\n",
        "    ax = next(ax_iter)\r\n",
        "    a = sns.boxplot(x='Pclass', y=column, data=df,ax=ax)"
      ],
      "execution_count": 179,
      "outputs": [
        {
          "output_type": "display_data",
          "data": {
            "image/png": "[encoded data removed]",
            "text/plain": [
              "<Figure size 864x1440 with 3 Axes>"
            ]
          },
          "metadata": {
            "tags": [],
            "needs_background": "light"
          }
        }
      ]
    },
    {
      "cell_type": "code",
      "metadata": {
        "id": "K8fthcUq516h"
      },
      "source": [
        "from sklearn.model_selection import train_test_split, GridSearchCV\n",
        "from sklearn.preprocessing import StandardScaler\n",
        "from sklearn.metrics import f1_score, classification_report, confusion_matrix\n",
        "\n",
        "from sklearn.neighbors import KNeighborsClassifier\n",
        "from sklearn.tree import DecisionTreeClassifier, export_graphviz\n",
        "from sklearn.svm import SVC\n",
        "from sklearn.ensemble import RandomForestClassifier, AdaBoostClassifier, GradientBoostingClassifier"
      ],
      "execution_count": 180,
      "outputs": []
    },
    {
      "cell_type": "markdown",
      "metadata": {
        "id": "unsXPu7fdwSj"
      },
      "source": [
        "One-Hot encoding"
      ]
    },
    {
      "cell_type": "code",
      "metadata": {
        "id": "1JS1ARBQ56rp"
      },
      "source": [
        "for column in df.select_dtypes(include='category').columns:\n",
        "    if column=='Embarked':\n",
        "        continue\n",
        "    df = pd.concat([df, pd.get_dummies(df[column], prefix=column)],axis=1)\n",
        "    df.drop([column],axis=1, inplace=True)"
      ],
      "execution_count": 181,
      "outputs": []
    },
    {
      "cell_type": "code",
      "metadata": {
        "id": "9YNx9ZxKd25n"
      },
      "source": [
        "X_train, X_test, y_train, y_test = train_test_split(df.drop('Embarked',axis=1), df['Embarked'].cat.codes, test_size=0.2, random_state=42)"
      ],
      "execution_count": 182,
      "outputs": []
    },
    {
      "cell_type": "markdown",
      "metadata": {
        "id": "ro95NYVGd-8y"
      },
      "source": [
        "Numerical features scaling"
      ]
    },
    {
      "cell_type": "code",
      "metadata": {
        "id": "xYetnl1056va"
      },
      "source": [
        "for column in df.select_dtypes(include='int64').columns:\n",
        "    scale = StandardScaler().fit(X_train[[column]])\n",
        "    X_train[[column]] = scale.transform(X_train[[column]])\n",
        "    X_test[[column]] = scale.transform(X_test[[column]])"
      ],
      "execution_count": 183,
      "outputs": []
    },
    {
      "cell_type": "markdown",
      "metadata": {
        "id": "0hi6euobeI2q"
      },
      "source": [
        "KNN"
      ]
    },
    {
      "cell_type": "code",
      "metadata": {
        "id": "reJHqoQg56zS",
        "colab": {
          "base_uri": "https://localhost:8080/"
        },
        "outputId": "a5822b02-42fa-4091-a9f5-cc5a75c97444"
      },
      "source": [
        "n_neighbors = list(range(10,15))\r\n",
        "hyperparameters = dict(n_neighbors=n_neighbors)\r\n",
        "knn = KNeighborsClassifier()\r\n",
        "clf = GridSearchCV(knn, hyperparameters, cv=3, n_jobs=-1, verbose=10)\r\n",
        "best_model = clf.fit(X_train,y_train)\r\n",
        "print('Best n_neighbors:', best_model.best_estimator_.get_params()['n_neighbors'])"
      ],
      "execution_count": 184,
      "outputs": [
        {
          "output_type": "stream",
          "text": [
            "Fitting 3 folds for each of 5 candidates, totalling 15 fits\n"
          ],
          "name": "stdout"
        },
        {
          "output_type": "stream",
          "text": [
            "/usr/local/lib/python3.6/dist-packages/sklearn/model_selection/_split.py:667: UserWarning: The least populated class in y has only 2 members, which is less than n_splits=3.\n",
            "  % (min_groups, self.n_splits)), UserWarning)\n",
            "[Parallel(n_jobs=-1)]: Using backend LokyBackend with 2 concurrent workers.\n",
            "[Parallel(n_jobs=-1)]: Done   1 tasks      | elapsed:    1.4s\n",
            "[Parallel(n_jobs=-1)]: Done   4 tasks      | elapsed:    1.5s\n",
            "[Parallel(n_jobs=-1)]: Done   9 tasks      | elapsed:    1.6s\n"
          ],
          "name": "stderr"
        },
        {
          "output_type": "stream",
          "text": [
            "Best n_neighbors: 12\n"
          ],
          "name": "stdout"
        },
        {
          "output_type": "stream",
          "text": [
            "[Parallel(n_jobs=-1)]: Done  15 out of  15 | elapsed:    1.7s finished\n"
          ],
          "name": "stderr"
        }
      ]
    },
    {
      "cell_type": "code",
      "metadata": {
        "id": "TZcbqeiseSwx"
      },
      "source": [
        "knn = KNeighborsClassifier(n_neighbors=12)\r\n",
        "knn.fit(X_train,y_train)\r\n",
        "y_pred = knn.predict(X_test)"
      ],
      "execution_count": 185,
      "outputs": []
    },
    {
      "cell_type": "code",
      "metadata": {
        "colab": {
          "base_uri": "https://localhost:8080/"
        },
        "id": "nPiTiSigeS41",
        "outputId": "8ce0775a-fe4e-477d-c94f-b8fa42d4e031"
      },
      "source": [
        "knn.score(X_test, y_test)"
      ],
      "execution_count": 186,
      "outputs": [
        {
          "output_type": "execute_result",
          "data": {
            "text/plain": [
              "0.5675675675675675"
            ]
          },
          "metadata": {
            "tags": []
          },
          "execution_count": 186
        }
      ]
    },
    {
      "cell_type": "code",
      "metadata": {
        "colab": {
          "base_uri": "https://localhost:8080/"
        },
        "id": "RKZukpuMeYzg",
        "outputId": "25368413-fd32-4015-af01-adf3215d4b44"
      },
      "source": [
        "f1_score(y_test, y_pred, average='weighted')"
      ],
      "execution_count": 187,
      "outputs": [
        {
          "output_type": "execute_result",
          "data": {
            "text/plain": [
              "0.5294525294525294"
            ]
          },
          "metadata": {
            "tags": []
          },
          "execution_count": 187
        }
      ]
    },
    {
      "cell_type": "markdown",
      "metadata": {
        "id": "W2Xe26NGeZfi"
      },
      "source": [
        "Decision Tree"
      ]
    },
    {
      "cell_type": "code",
      "metadata": {
        "colab": {
          "base_uri": "https://localhost:8080/"
        },
        "id": "XyZQf2baeb7b",
        "outputId": "e22c2e15-27bb-453d-d307-8b531ef73ab1"
      },
      "source": [
        "max_depth = [None,5,10,15]\r\n",
        "hyperparameters = dict(max_depth=max_depth)\r\n",
        "dtc = DecisionTreeClassifier()\r\n",
        "clf = GridSearchCV(dtc, hyperparameters, cv=3, n_jobs=-1, verbose=10)\r\n",
        "best_model = clf.fit(X_train,y_train)\r\n",
        "print('Best max_depth:', best_model.best_estimator_.get_params()['max_depth'])"
      ],
      "execution_count": 188,
      "outputs": [
        {
          "output_type": "stream",
          "text": [
            "/usr/local/lib/python3.6/dist-packages/sklearn/model_selection/_split.py:667: UserWarning: The least populated class in y has only 2 members, which is less than n_splits=3.\n",
            "  % (min_groups, self.n_splits)), UserWarning)\n",
            "[Parallel(n_jobs=-1)]: Using backend LokyBackend with 2 concurrent workers.\n",
            "[Parallel(n_jobs=-1)]: Done   1 tasks      | elapsed:    0.0s\n",
            "[Parallel(n_jobs=-1)]: Batch computation too fast (0.0288s.) Setting batch_size=2.\n",
            "[Parallel(n_jobs=-1)]: Done   4 tasks      | elapsed:    0.1s\n",
            "[Parallel(n_jobs=-1)]: Batch computation too fast (0.0456s.) Setting batch_size=4.\n",
            "[Parallel(n_jobs=-1)]: Done  12 out of  12 | elapsed:    0.1s finished\n"
          ],
          "name": "stderr"
        },
        {
          "output_type": "stream",
          "text": [
            "Fitting 3 folds for each of 4 candidates, totalling 12 fits\n",
            "Best max_depth: None\n"
          ],
          "name": "stdout"
        }
      ]
    },
    {
      "cell_type": "code",
      "metadata": {
        "colab": {
          "base_uri": "https://localhost:8080/"
        },
        "id": "rm4TpzzyekKv",
        "outputId": "70f4e542-2649-4053-f2ee-1eecbbc9f3bd"
      },
      "source": [
        "dtc = DecisionTreeClassifier(max_depth=10)\r\n",
        "dtc.fit(X_train,y_train)\r\n",
        "y_pred = dtc.predict(X_test)\r\n",
        "print('Score:', dtc.score(X_test, y_test))\r\n",
        "print(f1_score(y_test, y_pred, average='weighted'))"
      ],
      "execution_count": 189,
      "outputs": [
        {
          "output_type": "stream",
          "text": [
            "Score: 0.5675675675675675\n",
            "0.5113513513513513\n"
          ],
          "name": "stdout"
        }
      ]
    },
    {
      "cell_type": "code",
      "metadata": {
        "colab": {
          "base_uri": "https://localhost:8080/",
          "height": 1000
        },
        "id": "-3bBN80lemT2",
        "outputId": "96483c34-443b-4b7e-f9c4-5bf26190147e"
      },
      "source": [
        "import graphviz\r\n",
        "dot_data = export_graphviz(dtc, out_file=None, \r\n",
        "                                filled=False)\r\n",
        "graph = graphviz.Source(dot_data, format=\"png\") \r\n",
        "graph"
      ],
      "execution_count": 190,
      "outputs": [
        {
          "output_type": "execute_result",
          "data": {
            "text/plain": [
              "<graphviz.files.Source at 0x7f28d063b940>"
            ],
            "image/svg+xml": "<?xml version=\"1.0\" encoding=\"UTF-8\" standalone=\"no\"?>\n<!DOCTYPE svg PUBLIC \"-//W3C//DTD SVG 1.1//EN\"\n \"http://www.w3.org/Graphics/SVG/1.1/DTD/svg11.dtd\">\n<!-- Generated by graphviz version 2.40.1 (20161225.0304)\n -->\n<!-- Title: Tree Pages: 1 -->\n<svg width=\"1110pt\" height=\"1101pt\"\n viewBox=\"0.00 0.00 1110.00 1101.00\" xmlns=\"http://www.w3.org/2000/svg\" xmlns:xlink=\"http://www.w3.org/1999/xlink\">\n<g id=\"graph0\" class=\"graph\" transform=\"scale(1 1) rotate(0) translate(4 1097)\">\n<title>Tree</title>\n<polygon fill=\"#ffffff\" stroke=\"transparent\" points=\"-4,4 -4,-1097 1106,-1097 1106,4 -4,4\"/>\n<!-- 0 -->\n<g id=\"node1\" class=\"node\">\n<title>0</title>\n<polygon fill=\"none\" stroke=\"#000000\" points=\"711.5,-1093 586.5,-1093 586.5,-1025 711.5,-1025 711.5,-1093\"/>\n<text text-anchor=\"middle\" x=\"649\" y=\"-1077.8\" font-family=\"Times,serif\" font-size=\"14.00\" fill=\"#000000\">X[320] &lt;= 0.5</text>\n<text text-anchor=\"middle\" x=\"649\" y=\"-1062.8\" font-family=\"Times,serif\" font-size=\"14.00\" fill=\"#000000\">gini = 0.455</text>\n<text text-anchor=\"middle\" x=\"649\" y=\"-1047.8\" font-family=\"Times,serif\" font-size=\"14.00\" fill=\"#000000\">samples = 146</text>\n<text text-anchor=\"middle\" x=\"649\" y=\"-1032.8\" font-family=\"Times,serif\" font-size=\"14.00\" fill=\"#000000\">value = [47, 2, 97]</text>\n</g>\n<!-- 1 -->\n<g id=\"node2\" class=\"node\">\n<title>1</title>\n<polygon fill=\"none\" stroke=\"#000000\" points=\"643.5,-989 518.5,-989 518.5,-921 643.5,-921 643.5,-989\"/>\n<text text-anchor=\"middle\" x=\"581\" y=\"-973.8\" font-family=\"Times,serif\" font-size=\"14.00\" fill=\"#000000\">X[0] &lt;= &#45;1.161</text>\n<text text-anchor=\"middle\" x=\"581\" y=\"-958.8\" font-family=\"Times,serif\" font-size=\"14.00\" fill=\"#000000\">gini = 0.44</text>\n<text text-anchor=\"middle\" x=\"581\" y=\"-943.8\" font-family=\"Times,serif\" font-size=\"14.00\" fill=\"#000000\">samples = 144</text>\n<text text-anchor=\"middle\" x=\"581\" y=\"-928.8\" font-family=\"Times,serif\" font-size=\"14.00\" fill=\"#000000\">value = [47, 0, 97]</text>\n</g>\n<!-- 0&#45;&gt;1 -->\n<g id=\"edge1\" class=\"edge\">\n<title>0&#45;&gt;1</title>\n<path fill=\"none\" stroke=\"#000000\" d=\"M626.7343,-1024.9465C621.0398,-1016.2373 614.8448,-1006.7626 608.9062,-997.6801\"/>\n<polygon fill=\"#000000\" stroke=\"#000000\" points=\"611.7177,-995.5843 603.3158,-989.13 605.8589,-999.4151 611.7177,-995.5843\"/>\n<text text-anchor=\"middle\" x=\"598.1942\" y=\"-1009.8998\" font-family=\"Times,serif\" font-size=\"14.00\" fill=\"#000000\">True</text>\n</g>\n<!-- 32 -->\n<g id=\"node33\" class=\"node\">\n<title>32</title>\n<polygon fill=\"none\" stroke=\"#000000\" points=\"772,-981.5 662,-981.5 662,-928.5 772,-928.5 772,-981.5\"/>\n<text text-anchor=\"middle\" x=\"717\" y=\"-966.3\" font-family=\"Times,serif\" font-size=\"14.00\" fill=\"#000000\">gini = 0.0</text>\n<text text-anchor=\"middle\" x=\"717\" y=\"-951.3\" font-family=\"Times,serif\" font-size=\"14.00\" fill=\"#000000\">samples = 2</text>\n<text text-anchor=\"middle\" x=\"717\" y=\"-936.3\" font-family=\"Times,serif\" font-size=\"14.00\" fill=\"#000000\">value = [0, 2, 0]</text>\n</g>\n<!-- 0&#45;&gt;32 -->\n<g id=\"edge32\" class=\"edge\">\n<title>0&#45;&gt;32</title>\n<path fill=\"none\" stroke=\"#000000\" d=\"M671.2657,-1024.9465C678.5398,-1013.8215 686.6306,-1001.4473 693.9604,-990.237\"/>\n<polygon fill=\"#000000\" stroke=\"#000000\" points=\"697.1024,-991.8273 699.6455,-981.5422 691.2436,-987.9965 697.1024,-991.8273\"/>\n<text text-anchor=\"middle\" x=\"704.7671\" y=\"-1002.3119\" font-family=\"Times,serif\" font-size=\"14.00\" fill=\"#000000\">False</text>\n</g>\n<!-- 2 -->\n<g id=\"node3\" class=\"node\">\n<title>2</title>\n<polygon fill=\"none\" stroke=\"#000000\" points=\"570.5,-885 453.5,-885 453.5,-817 570.5,-817 570.5,-885\"/>\n<text text-anchor=\"middle\" x=\"512\" y=\"-869.8\" font-family=\"Times,serif\" font-size=\"14.00\" fill=\"#000000\">X[569] &lt;= 0.5</text>\n<text text-anchor=\"middle\" x=\"512\" y=\"-854.8\" font-family=\"Times,serif\" font-size=\"14.00\" fill=\"#000000\">gini = 0.165</text>\n<text text-anchor=\"middle\" x=\"512\" y=\"-839.8\" font-family=\"Times,serif\" font-size=\"14.00\" fill=\"#000000\">samples = 22</text>\n<text text-anchor=\"middle\" x=\"512\" y=\"-824.8\" font-family=\"Times,serif\" font-size=\"14.00\" fill=\"#000000\">value = [2, 0, 20]</text>\n</g>\n<!-- 1&#45;&gt;2 -->\n<g id=\"edge2\" class=\"edge\">\n<title>1&#45;&gt;2</title>\n<path fill=\"none\" stroke=\"#000000\" d=\"M558.4068,-920.9465C552.6286,-912.2373 546.3425,-902.7626 540.3166,-893.6801\"/>\n<polygon fill=\"#000000\" stroke=\"#000000\" points=\"543.089,-891.5278 534.6439,-885.13 537.256,-895.3978 543.089,-891.5278\"/>\n</g>\n<!-- 7 -->\n<g id=\"node8\" class=\"node\">\n<title>7</title>\n<polygon fill=\"none\" stroke=\"#000000\" points=\"713.5,-885 588.5,-885 588.5,-817 713.5,-817 713.5,-885\"/>\n<text text-anchor=\"middle\" x=\"651\" y=\"-869.8\" font-family=\"Times,serif\" font-size=\"14.00\" fill=\"#000000\">X[0] &lt;= 1.126</text>\n<text text-anchor=\"middle\" x=\"651\" y=\"-854.8\" font-family=\"Times,serif\" font-size=\"14.00\" fill=\"#000000\">gini = 0.466</text>\n<text text-anchor=\"middle\" x=\"651\" y=\"-839.8\" font-family=\"Times,serif\" font-size=\"14.00\" fill=\"#000000\">samples = 122</text>\n<text text-anchor=\"middle\" x=\"651\" y=\"-824.8\" font-family=\"Times,serif\" font-size=\"14.00\" fill=\"#000000\">value = [45, 0, 77]</text>\n</g>\n<!-- 1&#45;&gt;7 -->\n<g id=\"edge7\" class=\"edge\">\n<title>1&#45;&gt;7</title>\n<path fill=\"none\" stroke=\"#000000\" d=\"M603.9206,-920.9465C609.7826,-912.2373 616.1598,-902.7626 622.273,-893.6801\"/>\n<polygon fill=\"#000000\" stroke=\"#000000\" points=\"625.3476,-895.3802 628.0279,-885.13 619.5405,-891.4716 625.3476,-895.3802\"/>\n</g>\n<!-- 3 -->\n<g id=\"node4\" class=\"node\">\n<title>3</title>\n<polygon fill=\"none\" stroke=\"#000000\" points=\"439.5,-781 322.5,-781 322.5,-713 439.5,-713 439.5,-781\"/>\n<text text-anchor=\"middle\" x=\"381\" y=\"-765.8\" font-family=\"Times,serif\" font-size=\"14.00\" fill=\"#000000\">X[443] &lt;= 0.5</text>\n<text text-anchor=\"middle\" x=\"381\" y=\"-750.8\" font-family=\"Times,serif\" font-size=\"14.00\" fill=\"#000000\">gini = 0.091</text>\n<text text-anchor=\"middle\" x=\"381\" y=\"-735.8\" font-family=\"Times,serif\" font-size=\"14.00\" fill=\"#000000\">samples = 21</text>\n<text text-anchor=\"middle\" x=\"381\" y=\"-720.8\" font-family=\"Times,serif\" font-size=\"14.00\" fill=\"#000000\">value = [1, 0, 20]</text>\n</g>\n<!-- 2&#45;&gt;3 -->\n<g id=\"edge3\" class=\"edge\">\n<title>2&#45;&gt;3</title>\n<path fill=\"none\" stroke=\"#000000\" d=\"M469.1057,-816.9465C457.2307,-807.519 444.2259,-797.1946 431.9407,-787.4415\"/>\n<polygon fill=\"#000000\" stroke=\"#000000\" points=\"433.9989,-784.6066 423.9907,-781.13 429.6464,-790.089 433.9989,-784.6066\"/>\n</g>\n<!-- 6 -->\n<g id=\"node7\" class=\"node\">\n<title>6</title>\n<polygon fill=\"none\" stroke=\"#000000\" points=\"568,-773.5 458,-773.5 458,-720.5 568,-720.5 568,-773.5\"/>\n<text text-anchor=\"middle\" x=\"513\" y=\"-758.3\" font-family=\"Times,serif\" font-size=\"14.00\" fill=\"#000000\">gini = 0.0</text>\n<text text-anchor=\"middle\" x=\"513\" y=\"-743.3\" font-family=\"Times,serif\" font-size=\"14.00\" fill=\"#000000\">samples = 1</text>\n<text text-anchor=\"middle\" x=\"513\" y=\"-728.3\" font-family=\"Times,serif\" font-size=\"14.00\" fill=\"#000000\">value = [1, 0, 0]</text>\n</g>\n<!-- 2&#45;&gt;6 -->\n<g id=\"edge6\" class=\"edge\">\n<title>2&#45;&gt;6</title>\n<path fill=\"none\" stroke=\"#000000\" d=\"M512.3274,-816.9465C512.4302,-806.2621 512.544,-794.4254 512.6483,-783.5742\"/>\n<polygon fill=\"#000000\" stroke=\"#000000\" points=\"516.1484,-783.5754 512.7448,-773.5422 509.1487,-783.508 516.1484,-783.5754\"/>\n</g>\n<!-- 4 -->\n<g id=\"node5\" class=\"node\">\n<title>4</title>\n<polygon fill=\"none\" stroke=\"#000000\" points=\"308.5,-669.5 191.5,-669.5 191.5,-616.5 308.5,-616.5 308.5,-669.5\"/>\n<text text-anchor=\"middle\" x=\"250\" y=\"-654.3\" font-family=\"Times,serif\" font-size=\"14.00\" fill=\"#000000\">gini = 0.0</text>\n<text text-anchor=\"middle\" x=\"250\" y=\"-639.3\" font-family=\"Times,serif\" font-size=\"14.00\" fill=\"#000000\">samples = 20</text>\n<text text-anchor=\"middle\" x=\"250\" y=\"-624.3\" font-family=\"Times,serif\" font-size=\"14.00\" fill=\"#000000\">value = [0, 0, 20]</text>\n</g>\n<!-- 3&#45;&gt;4 -->\n<g id=\"edge4\" class=\"edge\">\n<title>3&#45;&gt;4</title>\n<path fill=\"none\" stroke=\"#000000\" d=\"M338.1057,-712.9465C323.1212,-701.0504 306.3376,-687.726 291.4712,-675.9237\"/>\n<polygon fill=\"#000000\" stroke=\"#000000\" points=\"293.4411,-673.0187 283.4329,-669.5422 289.0887,-678.5011 293.4411,-673.0187\"/>\n</g>\n<!-- 5 -->\n<g id=\"node6\" class=\"node\">\n<title>5</title>\n<polygon fill=\"none\" stroke=\"#000000\" points=\"437,-669.5 327,-669.5 327,-616.5 437,-616.5 437,-669.5\"/>\n<text text-anchor=\"middle\" x=\"382\" y=\"-654.3\" font-family=\"Times,serif\" font-size=\"14.00\" fill=\"#000000\">gini = 0.0</text>\n<text text-anchor=\"middle\" x=\"382\" y=\"-639.3\" font-family=\"Times,serif\" font-size=\"14.00\" fill=\"#000000\">samples = 1</text>\n<text text-anchor=\"middle\" x=\"382\" y=\"-624.3\" font-family=\"Times,serif\" font-size=\"14.00\" fill=\"#000000\">value = [1, 0, 0]</text>\n</g>\n<!-- 3&#45;&gt;5 -->\n<g id=\"edge5\" class=\"edge\">\n<title>3&#45;&gt;5</title>\n<path fill=\"none\" stroke=\"#000000\" d=\"M381.3274,-712.9465C381.4302,-702.2621 381.544,-690.4254 381.6483,-679.5742\"/>\n<polygon fill=\"#000000\" stroke=\"#000000\" points=\"385.1484,-679.5754 381.7448,-669.5422 378.1487,-679.508 385.1484,-679.5754\"/>\n</g>\n<!-- 8 -->\n<g id=\"node9\" class=\"node\">\n<title>8</title>\n<polygon fill=\"none\" stroke=\"#000000\" points=\"712.5,-781 587.5,-781 587.5,-713 712.5,-713 712.5,-781\"/>\n<text text-anchor=\"middle\" x=\"650\" y=\"-765.8\" font-family=\"Times,serif\" font-size=\"14.00\" fill=\"#000000\">X[464] &lt;= 0.5</text>\n<text text-anchor=\"middle\" x=\"650\" y=\"-750.8\" font-family=\"Times,serif\" font-size=\"14.00\" fill=\"#000000\">gini = 0.49</text>\n<text text-anchor=\"middle\" x=\"650\" y=\"-735.8\" font-family=\"Times,serif\" font-size=\"14.00\" fill=\"#000000\">samples = 98</text>\n<text text-anchor=\"middle\" x=\"650\" y=\"-720.8\" font-family=\"Times,serif\" font-size=\"14.00\" fill=\"#000000\">value = [42, 0, 56]</text>\n</g>\n<!-- 7&#45;&gt;8 -->\n<g id=\"edge8\" class=\"edge\">\n<title>7&#45;&gt;8</title>\n<path fill=\"none\" stroke=\"#000000\" d=\"M650.6726,-816.9465C650.594,-808.776 650.509,-799.9318 650.4266,-791.3697\"/>\n<polygon fill=\"#000000\" stroke=\"#000000\" points=\"653.9243,-791.0958 650.3282,-781.13 646.9246,-791.1632 653.9243,-791.0958\"/>\n</g>\n<!-- 25 -->\n<g id=\"node26\" class=\"node\">\n<title>25</title>\n<polygon fill=\"none\" stroke=\"#000000\" points=\"847.5,-781 730.5,-781 730.5,-713 847.5,-713 847.5,-781\"/>\n<text text-anchor=\"middle\" x=\"789\" y=\"-765.8\" font-family=\"Times,serif\" font-size=\"14.00\" fill=\"#000000\">X[0] &lt;= 1.677</text>\n<text text-anchor=\"middle\" x=\"789\" y=\"-750.8\" font-family=\"Times,serif\" font-size=\"14.00\" fill=\"#000000\">gini = 0.219</text>\n<text text-anchor=\"middle\" x=\"789\" y=\"-735.8\" font-family=\"Times,serif\" font-size=\"14.00\" fill=\"#000000\">samples = 24</text>\n<text text-anchor=\"middle\" x=\"789\" y=\"-720.8\" font-family=\"Times,serif\" font-size=\"14.00\" fill=\"#000000\">value = [3, 0, 21]</text>\n</g>\n<!-- 7&#45;&gt;25 -->\n<g id=\"edge25\" class=\"edge\">\n<title>7&#45;&gt;25</title>\n<path fill=\"none\" stroke=\"#000000\" d=\"M696.1864,-816.9465C708.815,-807.4293 722.6567,-796.9978 735.7068,-787.163\"/>\n<polygon fill=\"#000000\" stroke=\"#000000\" points=\"737.8325,-789.9437 743.7121,-781.13 733.6195,-784.3534 737.8325,-789.9437\"/>\n</g>\n<!-- 9 -->\n<g id=\"node10\" class=\"node\">\n<title>9</title>\n<polygon fill=\"none\" stroke=\"#000000\" points=\"581.5,-677 456.5,-677 456.5,-609 581.5,-609 581.5,-677\"/>\n<text text-anchor=\"middle\" x=\"519\" y=\"-661.8\" font-family=\"Times,serif\" font-size=\"14.00\" fill=\"#000000\">X[312] &lt;= 0.5</text>\n<text text-anchor=\"middle\" x=\"519\" y=\"-646.8\" font-family=\"Times,serif\" font-size=\"14.00\" fill=\"#000000\">gini = 0.484</text>\n<text text-anchor=\"middle\" x=\"519\" y=\"-631.8\" font-family=\"Times,serif\" font-size=\"14.00\" fill=\"#000000\">samples = 95</text>\n<text text-anchor=\"middle\" x=\"519\" y=\"-616.8\" font-family=\"Times,serif\" font-size=\"14.00\" fill=\"#000000\">value = [39, 0, 56]</text>\n</g>\n<!-- 8&#45;&gt;9 -->\n<g id=\"edge9\" class=\"edge\">\n<title>8&#45;&gt;9</title>\n<path fill=\"none\" stroke=\"#000000\" d=\"M607.1057,-712.9465C595.2307,-703.519 582.2259,-693.1946 569.9407,-683.4415\"/>\n<polygon fill=\"#000000\" stroke=\"#000000\" points=\"571.9989,-680.6066 561.9907,-677.13 567.6464,-686.089 571.9989,-680.6066\"/>\n</g>\n<!-- 24 -->\n<g id=\"node25\" class=\"node\">\n<title>24</title>\n<polygon fill=\"none\" stroke=\"#000000\" points=\"710,-669.5 600,-669.5 600,-616.5 710,-616.5 710,-669.5\"/>\n<text text-anchor=\"middle\" x=\"655\" y=\"-654.3\" font-family=\"Times,serif\" font-size=\"14.00\" fill=\"#000000\">gini = 0.0</text>\n<text text-anchor=\"middle\" x=\"655\" y=\"-639.3\" font-family=\"Times,serif\" font-size=\"14.00\" fill=\"#000000\">samples = 3</text>\n<text text-anchor=\"middle\" x=\"655\" y=\"-624.3\" font-family=\"Times,serif\" font-size=\"14.00\" fill=\"#000000\">value = [3, 0, 0]</text>\n</g>\n<!-- 8&#45;&gt;24 -->\n<g id=\"edge24\" class=\"edge\">\n<title>8&#45;&gt;24</title>\n<path fill=\"none\" stroke=\"#000000\" d=\"M651.6372,-712.9465C652.1509,-702.2621 652.7199,-690.4254 653.2416,-679.5742\"/>\n<polygon fill=\"#000000\" stroke=\"#000000\" points=\"656.7396,-679.6987 653.7239,-669.5422 649.7477,-679.3625 656.7396,-679.6987\"/>\n</g>\n<!-- 10 -->\n<g id=\"node11\" class=\"node\">\n<title>10</title>\n<polygon fill=\"none\" stroke=\"#000000\" points=\"447.5,-573 322.5,-573 322.5,-505 447.5,-505 447.5,-573\"/>\n<text text-anchor=\"middle\" x=\"385\" y=\"-557.8\" font-family=\"Times,serif\" font-size=\"14.00\" fill=\"#000000\">X[403] &lt;= 0.5</text>\n<text text-anchor=\"middle\" x=\"385\" y=\"-542.8\" font-family=\"Times,serif\" font-size=\"14.00\" fill=\"#000000\">gini = 0.476</text>\n<text text-anchor=\"middle\" x=\"385\" y=\"-527.8\" font-family=\"Times,serif\" font-size=\"14.00\" fill=\"#000000\">samples = 92</text>\n<text text-anchor=\"middle\" x=\"385\" y=\"-512.8\" font-family=\"Times,serif\" font-size=\"14.00\" fill=\"#000000\">value = [36, 0, 56]</text>\n</g>\n<!-- 9&#45;&gt;10 -->\n<g id=\"edge10\" class=\"edge\">\n<title>9&#45;&gt;10</title>\n<path fill=\"none\" stroke=\"#000000\" d=\"M475.1234,-608.9465C462.9765,-599.519 449.6738,-589.1946 437.1073,-579.4415\"/>\n<polygon fill=\"#000000\" stroke=\"#000000\" points=\"439.021,-576.4963 428.9752,-573.13 434.7291,-582.0262 439.021,-576.4963\"/>\n</g>\n<!-- 23 -->\n<g id=\"node24\" class=\"node\">\n<title>23</title>\n<polygon fill=\"none\" stroke=\"#000000\" points=\"576,-565.5 466,-565.5 466,-512.5 576,-512.5 576,-565.5\"/>\n<text text-anchor=\"middle\" x=\"521\" y=\"-550.3\" font-family=\"Times,serif\" font-size=\"14.00\" fill=\"#000000\">gini = 0.0</text>\n<text text-anchor=\"middle\" x=\"521\" y=\"-535.3\" font-family=\"Times,serif\" font-size=\"14.00\" fill=\"#000000\">samples = 3</text>\n<text text-anchor=\"middle\" x=\"521\" y=\"-520.3\" font-family=\"Times,serif\" font-size=\"14.00\" fill=\"#000000\">value = [3, 0, 0]</text>\n</g>\n<!-- 9&#45;&gt;23 -->\n<g id=\"edge23\" class=\"edge\">\n<title>9&#45;&gt;23</title>\n<path fill=\"none\" stroke=\"#000000\" d=\"M519.6549,-608.9465C519.8603,-598.2621 520.088,-586.4254 520.2966,-575.5742\"/>\n<polygon fill=\"#000000\" stroke=\"#000000\" points=\"523.7966,-575.6076 520.4896,-565.5422 516.7979,-575.473 523.7966,-575.6076\"/>\n</g>\n<!-- 11 -->\n<g id=\"node12\" class=\"node\">\n<title>11</title>\n<polygon fill=\"none\" stroke=\"#000000\" points=\"379.5,-469 254.5,-469 254.5,-401 379.5,-401 379.5,-469\"/>\n<text text-anchor=\"middle\" x=\"317\" y=\"-453.8\" font-family=\"Times,serif\" font-size=\"14.00\" fill=\"#000000\">X[2] &lt;= 2.543</text>\n<text text-anchor=\"middle\" x=\"317\" y=\"-438.8\" font-family=\"Times,serif\" font-size=\"14.00\" fill=\"#000000\">gini = 0.485</text>\n<text text-anchor=\"middle\" x=\"317\" y=\"-423.8\" font-family=\"Times,serif\" font-size=\"14.00\" fill=\"#000000\">samples = 87</text>\n<text text-anchor=\"middle\" x=\"317\" y=\"-408.8\" font-family=\"Times,serif\" font-size=\"14.00\" fill=\"#000000\">value = [36, 0, 51]</text>\n</g>\n<!-- 10&#45;&gt;11 -->\n<g id=\"edge11\" class=\"edge\">\n<title>10&#45;&gt;11</title>\n<path fill=\"none\" stroke=\"#000000\" d=\"M362.7343,-504.9465C357.0398,-496.2373 350.8448,-486.7626 344.9062,-477.6801\"/>\n<polygon fill=\"#000000\" stroke=\"#000000\" points=\"347.7177,-475.5843 339.3158,-469.13 341.8589,-479.4151 347.7177,-475.5843\"/>\n</g>\n<!-- 22 -->\n<g id=\"node23\" class=\"node\">\n<title>22</title>\n<polygon fill=\"none\" stroke=\"#000000\" points=\"508,-461.5 398,-461.5 398,-408.5 508,-408.5 508,-461.5\"/>\n<text text-anchor=\"middle\" x=\"453\" y=\"-446.3\" font-family=\"Times,serif\" font-size=\"14.00\" fill=\"#000000\">gini = 0.0</text>\n<text text-anchor=\"middle\" x=\"453\" y=\"-431.3\" font-family=\"Times,serif\" font-size=\"14.00\" fill=\"#000000\">samples = 5</text>\n<text text-anchor=\"middle\" x=\"453\" y=\"-416.3\" font-family=\"Times,serif\" font-size=\"14.00\" fill=\"#000000\">value = [0, 0, 5]</text>\n</g>\n<!-- 10&#45;&gt;22 -->\n<g id=\"edge22\" class=\"edge\">\n<title>10&#45;&gt;22</title>\n<path fill=\"none\" stroke=\"#000000\" d=\"M407.2657,-504.9465C414.5398,-493.8215 422.6306,-481.4473 429.9604,-470.237\"/>\n<polygon fill=\"#000000\" stroke=\"#000000\" points=\"433.1024,-471.8273 435.6455,-461.5422 427.2436,-467.9965 433.1024,-471.8273\"/>\n</g>\n<!-- 12 -->\n<g id=\"node13\" class=\"node\">\n<title>12</title>\n<polygon fill=\"none\" stroke=\"#000000\" points=\"311.5,-365 186.5,-365 186.5,-297 311.5,-297 311.5,-365\"/>\n<text text-anchor=\"middle\" x=\"249\" y=\"-349.8\" font-family=\"Times,serif\" font-size=\"14.00\" fill=\"#000000\">X[0] &lt;= &#45;0.964</text>\n<text text-anchor=\"middle\" x=\"249\" y=\"-334.8\" font-family=\"Times,serif\" font-size=\"14.00\" fill=\"#000000\">gini = 0.491</text>\n<text text-anchor=\"middle\" x=\"249\" y=\"-319.8\" font-family=\"Times,serif\" font-size=\"14.00\" fill=\"#000000\">samples = 83</text>\n<text text-anchor=\"middle\" x=\"249\" y=\"-304.8\" font-family=\"Times,serif\" font-size=\"14.00\" fill=\"#000000\">value = [36, 0, 47]</text>\n</g>\n<!-- 11&#45;&gt;12 -->\n<g id=\"edge12\" class=\"edge\">\n<title>11&#45;&gt;12</title>\n<path fill=\"none\" stroke=\"#000000\" d=\"M294.7343,-400.9465C289.0398,-392.2373 282.8448,-382.7626 276.9062,-373.6801\"/>\n<polygon fill=\"#000000\" stroke=\"#000000\" points=\"279.7177,-371.5843 271.3158,-365.13 273.8589,-375.4151 279.7177,-371.5843\"/>\n</g>\n<!-- 21 -->\n<g id=\"node22\" class=\"node\">\n<title>21</title>\n<polygon fill=\"none\" stroke=\"#000000\" points=\"440,-357.5 330,-357.5 330,-304.5 440,-304.5 440,-357.5\"/>\n<text text-anchor=\"middle\" x=\"385\" y=\"-342.3\" font-family=\"Times,serif\" font-size=\"14.00\" fill=\"#000000\">gini = 0.0</text>\n<text text-anchor=\"middle\" x=\"385\" y=\"-327.3\" font-family=\"Times,serif\" font-size=\"14.00\" fill=\"#000000\">samples = 4</text>\n<text text-anchor=\"middle\" x=\"385\" y=\"-312.3\" font-family=\"Times,serif\" font-size=\"14.00\" fill=\"#000000\">value = [0, 0, 4]</text>\n</g>\n<!-- 11&#45;&gt;21 -->\n<g id=\"edge21\" class=\"edge\">\n<title>11&#45;&gt;21</title>\n<path fill=\"none\" stroke=\"#000000\" d=\"M339.2657,-400.9465C346.5398,-389.8215 354.6306,-377.4473 361.9604,-366.237\"/>\n<polygon fill=\"#000000\" stroke=\"#000000\" points=\"365.1024,-367.8273 367.6455,-357.5422 359.2436,-363.9965 365.1024,-367.8273\"/>\n</g>\n<!-- 13 -->\n<g id=\"node14\" class=\"node\">\n<title>13</title>\n<polygon fill=\"none\" stroke=\"#000000\" points=\"236,-261 126,-261 126,-193 236,-193 236,-261\"/>\n<text text-anchor=\"middle\" x=\"181\" y=\"-245.8\" font-family=\"Times,serif\" font-size=\"14.00\" fill=\"#000000\">X[251] &lt;= 0.5</text>\n<text text-anchor=\"middle\" x=\"181\" y=\"-230.8\" font-family=\"Times,serif\" font-size=\"14.00\" fill=\"#000000\">gini = 0.32</text>\n<text text-anchor=\"middle\" x=\"181\" y=\"-215.8\" font-family=\"Times,serif\" font-size=\"14.00\" fill=\"#000000\">samples = 5</text>\n<text text-anchor=\"middle\" x=\"181\" y=\"-200.8\" font-family=\"Times,serif\" font-size=\"14.00\" fill=\"#000000\">value = [4, 0, 1]</text>\n</g>\n<!-- 12&#45;&gt;13 -->\n<g id=\"edge13\" class=\"edge\">\n<title>12&#45;&gt;13</title>\n<path fill=\"none\" stroke=\"#000000\" d=\"M226.7343,-296.9465C221.0398,-288.2373 214.8448,-278.7626 208.9062,-269.6801\"/>\n<polygon fill=\"#000000\" stroke=\"#000000\" points=\"211.7177,-267.5843 203.3158,-261.13 205.8589,-271.4151 211.7177,-267.5843\"/>\n</g>\n<!-- 16 -->\n<g id=\"node17\" class=\"node\">\n<title>16</title>\n<polygon fill=\"none\" stroke=\"#000000\" points=\"379.5,-261 254.5,-261 254.5,-193 379.5,-193 379.5,-261\"/>\n<text text-anchor=\"middle\" x=\"317\" y=\"-245.8\" font-family=\"Times,serif\" font-size=\"14.00\" fill=\"#000000\">X[0] &lt;= &#45;0.762</text>\n<text text-anchor=\"middle\" x=\"317\" y=\"-230.8\" font-family=\"Times,serif\" font-size=\"14.00\" fill=\"#000000\">gini = 0.484</text>\n<text text-anchor=\"middle\" x=\"317\" y=\"-215.8\" font-family=\"Times,serif\" font-size=\"14.00\" fill=\"#000000\">samples = 78</text>\n<text text-anchor=\"middle\" x=\"317\" y=\"-200.8\" font-family=\"Times,serif\" font-size=\"14.00\" fill=\"#000000\">value = [32, 0, 46]</text>\n</g>\n<!-- 12&#45;&gt;16 -->\n<g id=\"edge16\" class=\"edge\">\n<title>12&#45;&gt;16</title>\n<path fill=\"none\" stroke=\"#000000\" d=\"M271.2657,-296.9465C276.9602,-288.2373 283.1552,-278.7626 289.0938,-269.6801\"/>\n<polygon fill=\"#000000\" stroke=\"#000000\" points=\"292.1411,-271.4151 294.6842,-261.13 286.2823,-267.5843 292.1411,-271.4151\"/>\n</g>\n<!-- 14 -->\n<g id=\"node15\" class=\"node\">\n<title>14</title>\n<polygon fill=\"none\" stroke=\"#000000\" points=\"110,-149.5 0,-149.5 0,-96.5 110,-96.5 110,-149.5\"/>\n<text text-anchor=\"middle\" x=\"55\" y=\"-134.3\" font-family=\"Times,serif\" font-size=\"14.00\" fill=\"#000000\">gini = 0.0</text>\n<text text-anchor=\"middle\" x=\"55\" y=\"-119.3\" font-family=\"Times,serif\" font-size=\"14.00\" fill=\"#000000\">samples = 1</text>\n<text text-anchor=\"middle\" x=\"55\" y=\"-104.3\" font-family=\"Times,serif\" font-size=\"14.00\" fill=\"#000000\">value = [0, 0, 1]</text>\n</g>\n<!-- 13&#45;&gt;14 -->\n<g id=\"edge14\" class=\"edge\">\n<title>13&#45;&gt;14</title>\n<path fill=\"none\" stroke=\"#000000\" d=\"M139.7429,-192.9465C125.3303,-181.0504 109.1873,-167.726 94.8883,-155.9237\"/>\n<polygon fill=\"#000000\" stroke=\"#000000\" points=\"97.0971,-153.2086 87.1569,-149.5422 92.6411,-158.6071 97.0971,-153.2086\"/>\n</g>\n<!-- 15 -->\n<g id=\"node16\" class=\"node\">\n<title>15</title>\n<polygon fill=\"none\" stroke=\"#000000\" points=\"238,-149.5 128,-149.5 128,-96.5 238,-96.5 238,-149.5\"/>\n<text text-anchor=\"middle\" x=\"183\" y=\"-134.3\" font-family=\"Times,serif\" font-size=\"14.00\" fill=\"#000000\">gini = 0.0</text>\n<text text-anchor=\"middle\" x=\"183\" y=\"-119.3\" font-family=\"Times,serif\" font-size=\"14.00\" fill=\"#000000\">samples = 4</text>\n<text text-anchor=\"middle\" x=\"183\" y=\"-104.3\" font-family=\"Times,serif\" font-size=\"14.00\" fill=\"#000000\">value = [4, 0, 0]</text>\n</g>\n<!-- 13&#45;&gt;15 -->\n<g id=\"edge15\" class=\"edge\">\n<title>13&#45;&gt;15</title>\n<path fill=\"none\" stroke=\"#000000\" d=\"M181.6549,-192.9465C181.8603,-182.2621 182.088,-170.4254 182.2966,-159.5742\"/>\n<polygon fill=\"#000000\" stroke=\"#000000\" points=\"185.7966,-159.6076 182.4896,-149.5422 178.7979,-159.473 185.7966,-159.6076\"/>\n</g>\n<!-- 17 -->\n<g id=\"node18\" class=\"node\">\n<title>17</title>\n<polygon fill=\"none\" stroke=\"#000000\" points=\"370,-149.5 260,-149.5 260,-96.5 370,-96.5 370,-149.5\"/>\n<text text-anchor=\"middle\" x=\"315\" y=\"-134.3\" font-family=\"Times,serif\" font-size=\"14.00\" fill=\"#000000\">gini = 0.0</text>\n<text text-anchor=\"middle\" x=\"315\" y=\"-119.3\" font-family=\"Times,serif\" font-size=\"14.00\" fill=\"#000000\">samples = 7</text>\n<text text-anchor=\"middle\" x=\"315\" y=\"-104.3\" font-family=\"Times,serif\" font-size=\"14.00\" fill=\"#000000\">value = [0, 0, 7]</text>\n</g>\n<!-- 16&#45;&gt;17 -->\n<g id=\"edge17\" class=\"edge\">\n<title>16&#45;&gt;17</title>\n<path fill=\"none\" stroke=\"#000000\" d=\"M316.3451,-192.9465C316.1397,-182.2621 315.912,-170.4254 315.7034,-159.5742\"/>\n<polygon fill=\"#000000\" stroke=\"#000000\" points=\"319.2021,-159.473 315.5104,-149.5422 312.2034,-159.6076 319.2021,-159.473\"/>\n</g>\n<!-- 18 -->\n<g id=\"node19\" class=\"node\">\n<title>18</title>\n<polygon fill=\"none\" stroke=\"#000000\" points=\"513.5,-157 388.5,-157 388.5,-89 513.5,-89 513.5,-157\"/>\n<text text-anchor=\"middle\" x=\"451\" y=\"-141.8\" font-family=\"Times,serif\" font-size=\"14.00\" fill=\"#000000\">X[0] &lt;= &#45;0.54</text>\n<text text-anchor=\"middle\" x=\"451\" y=\"-126.8\" font-family=\"Times,serif\" font-size=\"14.00\" fill=\"#000000\">gini = 0.495</text>\n<text text-anchor=\"middle\" x=\"451\" y=\"-111.8\" font-family=\"Times,serif\" font-size=\"14.00\" fill=\"#000000\">samples = 71</text>\n<text text-anchor=\"middle\" x=\"451\" y=\"-96.8\" font-family=\"Times,serif\" font-size=\"14.00\" fill=\"#000000\">value = [32, 0, 39]</text>\n</g>\n<!-- 16&#45;&gt;18 -->\n<g id=\"edge18\" class=\"edge\">\n<title>16&#45;&gt;18</title>\n<path fill=\"none\" stroke=\"#000000\" d=\"M360.8766,-192.9465C373.0235,-183.519 386.3262,-173.1946 398.8927,-163.4415\"/>\n<polygon fill=\"#000000\" stroke=\"#000000\" points=\"401.2709,-166.0262 407.0248,-157.13 396.979,-160.4963 401.2709,-166.0262\"/>\n</g>\n<!-- 19 -->\n<g id=\"node20\" class=\"node\">\n<title>19</title>\n<polygon fill=\"none\" stroke=\"#000000\" points=\"438,-53 328,-53 328,0 438,0 438,-53\"/>\n<text text-anchor=\"middle\" x=\"383\" y=\"-37.8\" font-family=\"Times,serif\" font-size=\"14.00\" fill=\"#000000\">gini = 0.32</text>\n<text text-anchor=\"middle\" x=\"383\" y=\"-22.8\" font-family=\"Times,serif\" font-size=\"14.00\" fill=\"#000000\">samples = 10</text>\n<text text-anchor=\"middle\" x=\"383\" y=\"-7.8\" font-family=\"Times,serif\" font-size=\"14.00\" fill=\"#000000\">value = [8, 0, 2]</text>\n</g>\n<!-- 18&#45;&gt;19 -->\n<g id=\"edge19\" class=\"edge\">\n<title>18&#45;&gt;19</title>\n<path fill=\"none\" stroke=\"#000000\" d=\"M427.0257,-88.9777C420.7667,-80.0954 414.0099,-70.5067 407.7133,-61.5711\"/>\n<polygon fill=\"#000000\" stroke=\"#000000\" points=\"410.4699,-59.4068 401.8487,-53.2485 404.7479,-63.4389 410.4699,-59.4068\"/>\n</g>\n<!-- 20 -->\n<g id=\"node21\" class=\"node\">\n<title>20</title>\n<polygon fill=\"none\" stroke=\"#000000\" points=\"581.5,-53 456.5,-53 456.5,0 581.5,0 581.5,-53\"/>\n<text text-anchor=\"middle\" x=\"519\" y=\"-37.8\" font-family=\"Times,serif\" font-size=\"14.00\" fill=\"#000000\">gini = 0.477</text>\n<text text-anchor=\"middle\" x=\"519\" y=\"-22.8\" font-family=\"Times,serif\" font-size=\"14.00\" fill=\"#000000\">samples = 61</text>\n<text text-anchor=\"middle\" x=\"519\" y=\"-7.8\" font-family=\"Times,serif\" font-size=\"14.00\" fill=\"#000000\">value = [24, 0, 37]</text>\n</g>\n<!-- 18&#45;&gt;20 -->\n<g id=\"edge20\" class=\"edge\">\n<title>18&#45;&gt;20</title>\n<path fill=\"none\" stroke=\"#000000\" d=\"M474.9743,-88.9777C481.2333,-80.0954 487.9901,-70.5067 494.2867,-61.5711\"/>\n<polygon fill=\"#000000\" stroke=\"#000000\" points=\"497.2521,-63.4389 500.1513,-53.2485 491.5301,-59.4068 497.2521,-63.4389\"/>\n</g>\n<!-- 26 -->\n<g id=\"node27\" class=\"node\">\n<title>26</title>\n<polygon fill=\"none\" stroke=\"#000000\" points=\"846.5,-677 729.5,-677 729.5,-609 846.5,-609 846.5,-677\"/>\n<text text-anchor=\"middle\" x=\"788\" y=\"-661.8\" font-family=\"Times,serif\" font-size=\"14.00\" fill=\"#000000\">X[451] &lt;= 0.5</text>\n<text text-anchor=\"middle\" x=\"788\" y=\"-646.8\" font-family=\"Times,serif\" font-size=\"14.00\" fill=\"#000000\">gini = 0.091</text>\n<text text-anchor=\"middle\" x=\"788\" y=\"-631.8\" font-family=\"Times,serif\" font-size=\"14.00\" fill=\"#000000\">samples = 21</text>\n<text text-anchor=\"middle\" x=\"788\" y=\"-616.8\" font-family=\"Times,serif\" font-size=\"14.00\" fill=\"#000000\">value = [1, 0, 20]</text>\n</g>\n<!-- 25&#45;&gt;26 -->\n<g id=\"edge26\" class=\"edge\">\n<title>25&#45;&gt;26</title>\n<path fill=\"none\" stroke=\"#000000\" d=\"M788.6726,-712.9465C788.594,-704.776 788.509,-695.9318 788.4266,-687.3697\"/>\n<polygon fill=\"#000000\" stroke=\"#000000\" points=\"791.9243,-687.0958 788.3282,-677.13 784.9246,-687.1632 791.9243,-687.0958\"/>\n</g>\n<!-- 29 -->\n<g id=\"node30\" class=\"node\">\n<title>29</title>\n<polygon fill=\"none\" stroke=\"#000000\" points=\"975,-677 865,-677 865,-609 975,-609 975,-677\"/>\n<text text-anchor=\"middle\" x=\"920\" y=\"-661.8\" font-family=\"Times,serif\" font-size=\"14.00\" fill=\"#000000\">X[200] &lt;= 0.5</text>\n<text text-anchor=\"middle\" x=\"920\" y=\"-646.8\" font-family=\"Times,serif\" font-size=\"14.00\" fill=\"#000000\">gini = 0.444</text>\n<text text-anchor=\"middle\" x=\"920\" y=\"-631.8\" font-family=\"Times,serif\" font-size=\"14.00\" fill=\"#000000\">samples = 3</text>\n<text text-anchor=\"middle\" x=\"920\" y=\"-616.8\" font-family=\"Times,serif\" font-size=\"14.00\" fill=\"#000000\">value = [2, 0, 1]</text>\n</g>\n<!-- 25&#45;&gt;29 -->\n<g id=\"edge29\" class=\"edge\">\n<title>25&#45;&gt;29</title>\n<path fill=\"none\" stroke=\"#000000\" d=\"M831.8943,-712.9465C843.7693,-703.519 856.7741,-693.1946 869.0593,-683.4415\"/>\n<polygon fill=\"#000000\" stroke=\"#000000\" points=\"871.3536,-686.089 877.0093,-677.13 867.0011,-680.6066 871.3536,-686.089\"/>\n</g>\n<!-- 27 -->\n<g id=\"node28\" class=\"node\">\n<title>27</title>\n<polygon fill=\"none\" stroke=\"#000000\" points=\"715.5,-565.5 598.5,-565.5 598.5,-512.5 715.5,-512.5 715.5,-565.5\"/>\n<text text-anchor=\"middle\" x=\"657\" y=\"-550.3\" font-family=\"Times,serif\" font-size=\"14.00\" fill=\"#000000\">gini = 0.0</text>\n<text text-anchor=\"middle\" x=\"657\" y=\"-535.3\" font-family=\"Times,serif\" font-size=\"14.00\" fill=\"#000000\">samples = 20</text>\n<text text-anchor=\"middle\" x=\"657\" y=\"-520.3\" font-family=\"Times,serif\" font-size=\"14.00\" fill=\"#000000\">value = [0, 0, 20]</text>\n</g>\n<!-- 26&#45;&gt;27 -->\n<g id=\"edge27\" class=\"edge\">\n<title>26&#45;&gt;27</title>\n<path fill=\"none\" stroke=\"#000000\" d=\"M745.1057,-608.9465C730.1212,-597.0504 713.3376,-583.726 698.4712,-571.9237\"/>\n<polygon fill=\"#000000\" stroke=\"#000000\" points=\"700.4411,-569.0187 690.4329,-565.5422 696.0887,-574.5011 700.4411,-569.0187\"/>\n</g>\n<!-- 28 -->\n<g id=\"node29\" class=\"node\">\n<title>28</title>\n<polygon fill=\"none\" stroke=\"#000000\" points=\"844,-565.5 734,-565.5 734,-512.5 844,-512.5 844,-565.5\"/>\n<text text-anchor=\"middle\" x=\"789\" y=\"-550.3\" font-family=\"Times,serif\" font-size=\"14.00\" fill=\"#000000\">gini = 0.0</text>\n<text text-anchor=\"middle\" x=\"789\" y=\"-535.3\" font-family=\"Times,serif\" font-size=\"14.00\" fill=\"#000000\">samples = 1</text>\n<text text-anchor=\"middle\" x=\"789\" y=\"-520.3\" font-family=\"Times,serif\" font-size=\"14.00\" fill=\"#000000\">value = [1, 0, 0]</text>\n</g>\n<!-- 26&#45;&gt;28 -->\n<g id=\"edge28\" class=\"edge\">\n<title>26&#45;&gt;28</title>\n<path fill=\"none\" stroke=\"#000000\" d=\"M788.3274,-608.9465C788.4302,-598.2621 788.544,-586.4254 788.6483,-575.5742\"/>\n<polygon fill=\"#000000\" stroke=\"#000000\" points=\"792.1484,-575.5754 788.7448,-565.5422 785.1487,-575.508 792.1484,-575.5754\"/>\n</g>\n<!-- 30 -->\n<g id=\"node31\" class=\"node\">\n<title>30</title>\n<polygon fill=\"none\" stroke=\"#000000\" points=\"974,-565.5 864,-565.5 864,-512.5 974,-512.5 974,-565.5\"/>\n<text text-anchor=\"middle\" x=\"919\" y=\"-550.3\" font-family=\"Times,serif\" font-size=\"14.00\" fill=\"#000000\">gini = 0.0</text>\n<text text-anchor=\"middle\" x=\"919\" y=\"-535.3\" font-family=\"Times,serif\" font-size=\"14.00\" fill=\"#000000\">samples = 2</text>\n<text text-anchor=\"middle\" x=\"919\" y=\"-520.3\" font-family=\"Times,serif\" font-size=\"14.00\" fill=\"#000000\">value = [2, 0, 0]</text>\n</g>\n<!-- 29&#45;&gt;30 -->\n<g id=\"edge30\" class=\"edge\">\n<title>29&#45;&gt;30</title>\n<path fill=\"none\" stroke=\"#000000\" d=\"M919.6726,-608.9465C919.5698,-598.2621 919.456,-586.4254 919.3517,-575.5742\"/>\n<polygon fill=\"#000000\" stroke=\"#000000\" points=\"922.8513,-575.508 919.2552,-565.5422 915.8516,-575.5754 922.8513,-575.508\"/>\n</g>\n<!-- 31 -->\n<g id=\"node32\" class=\"node\">\n<title>31</title>\n<polygon fill=\"none\" stroke=\"#000000\" points=\"1102,-565.5 992,-565.5 992,-512.5 1102,-512.5 1102,-565.5\"/>\n<text text-anchor=\"middle\" x=\"1047\" y=\"-550.3\" font-family=\"Times,serif\" font-size=\"14.00\" fill=\"#000000\">gini = 0.0</text>\n<text text-anchor=\"middle\" x=\"1047\" y=\"-535.3\" font-family=\"Times,serif\" font-size=\"14.00\" fill=\"#000000\">samples = 1</text>\n<text text-anchor=\"middle\" x=\"1047\" y=\"-520.3\" font-family=\"Times,serif\" font-size=\"14.00\" fill=\"#000000\">value = [0, 0, 1]</text>\n</g>\n<!-- 29&#45;&gt;31 -->\n<g id=\"edge31\" class=\"edge\">\n<title>29&#45;&gt;31</title>\n<path fill=\"none\" stroke=\"#000000\" d=\"M961.5845,-608.9465C976.1115,-597.0504 992.3827,-583.726 1006.7951,-571.9237\"/>\n<polygon fill=\"#000000\" stroke=\"#000000\" points=\"1009.0686,-574.5858 1014.5879,-565.5422 1004.6335,-569.17 1009.0686,-574.5858\"/>\n</g>\n</g>\n</svg>\n"
          },
          "metadata": {
            "tags": []
          },
          "execution_count": 190
        }
      ]
    },
    {
      "cell_type": "code",
      "metadata": {
        "colab": {
          "base_uri": "https://localhost:8080/"
        },
        "id": "dzzVUZP-dInl",
        "outputId": "b659cf5a-cc4c-4785-bd2d-32b3758d8402"
      },
      "source": [
        "X_train.columns"
      ],
      "execution_count": 191,
      "outputs": [
        {
          "output_type": "execute_result",
          "data": {
            "text/plain": [
              "Index(['PassengerId', 'Survived', 'Pclass',\n",
              "       'Name_Allen, Miss. Elisabeth Walton',\n",
              "       'Name_Allison, Master. Hudson Trevor',\n",
              "       'Name_Allison, Miss. Helen Loraine',\n",
              "       'Name_Allison, Mrs. Hudson J C (Bessie Waldo Daniels)',\n",
              "       'Name_Anderson, Mr. Harry', 'Name_Andrews, Miss. Kornelia Theodosia',\n",
              "       'Name_Andrews, Mr. Thomas Jr',\n",
              "       ...\n",
              "       'Cabin_E68', 'Cabin_E77', 'Cabin_E8', 'Cabin_F G63', 'Cabin_F G73',\n",
              "       'Cabin_F2', 'Cabin_F33', 'Cabin_F4', 'Cabin_G6', 'Cabin_T'],\n",
              "      dtype='object', length=612)"
            ]
          },
          "metadata": {
            "tags": []
          },
          "execution_count": 191
        }
      ]
    },
    {
      "cell_type": "markdown",
      "metadata": {
        "id": "HOZ6BpWtem7s"
      },
      "source": [
        "SVM"
      ]
    },
    {
      "cell_type": "code",
      "metadata": {
        "colab": {
          "base_uri": "https://localhost:8080/"
        },
        "id": "JSFOsjEUeozl",
        "outputId": "8ee7c32e-db14-4a24-ed5a-01ae2ef78916"
      },
      "source": [
        "c = [0.1, 1, 2]\r\n",
        "gamma = [0.1, 0.5]\r\n",
        "kernel = ['rbf']\r\n",
        "hyperparameters = dict(C=c, gamma=gamma, kernel=kernel)\r\n",
        "svc = SVC()\r\n",
        "clf = GridSearchCV(svc, hyperparameters, cv=2, n_jobs=-1, verbose=10)\r\n",
        "best_model = clf.fit(X_train,y_train)\r\n",
        "print('Best C:', best_model.best_estimator_.get_params()['C'])\r\n",
        "print('Best gamma:', best_model.best_estimator_.get_params()['gamma'])\r\n",
        "print('Best kernel:', best_model.best_estimator_.get_params()['kernel'])"
      ],
      "execution_count": 192,
      "outputs": [
        {
          "output_type": "stream",
          "text": [
            "Fitting 2 folds for each of 6 candidates, totalling 12 fits\n"
          ],
          "name": "stdout"
        },
        {
          "output_type": "stream",
          "text": [
            "[Parallel(n_jobs=-1)]: Using backend LokyBackend with 2 concurrent workers.\n",
            "[Parallel(n_jobs=-1)]: Done   1 tasks      | elapsed:    0.0s\n",
            "[Parallel(n_jobs=-1)]: Batch computation too fast (0.0402s.) Setting batch_size=2.\n",
            "[Parallel(n_jobs=-1)]: Done   4 tasks      | elapsed:    0.1s\n",
            "[Parallel(n_jobs=-1)]: Batch computation too fast (0.0801s.) Setting batch_size=4.\n",
            "[Parallel(n_jobs=-1)]: Done  12 out of  12 | elapsed:    0.2s finished\n"
          ],
          "name": "stderr"
        },
        {
          "output_type": "stream",
          "text": [
            "Best C: 2\n",
            "Best gamma: 0.1\n",
            "Best kernel: rbf\n"
          ],
          "name": "stdout"
        }
      ]
    },
    {
      "cell_type": "code",
      "metadata": {
        "id": "03O14H1yeo2m"
      },
      "source": [
        "svc = SVC(C=2, kernel='rbf', gamma=0.1)\r\n",
        "svc.fit(X_train,y_train)\r\n",
        "y_pred = svc.predict(X_test)"
      ],
      "execution_count": 193,
      "outputs": []
    },
    {
      "cell_type": "code",
      "metadata": {
        "colab": {
          "base_uri": "https://localhost:8080/"
        },
        "id": "xQx5Ms23ex4z",
        "outputId": "5d35d044-b0a8-4daa-82e1-828758d285c6"
      },
      "source": [
        "svc.score(X_test, y_test)"
      ],
      "execution_count": 194,
      "outputs": [
        {
          "output_type": "execute_result",
          "data": {
            "text/plain": [
              "0.6216216216216216"
            ]
          },
          "metadata": {
            "tags": []
          },
          "execution_count": 194
        }
      ]
    },
    {
      "cell_type": "code",
      "metadata": {
        "colab": {
          "base_uri": "https://localhost:8080/"
        },
        "id": "NOH-HRDUex8G",
        "outputId": "15c33870-07f4-42b7-a21a-5bd131c944a6"
      },
      "source": [
        "f1_score(y_test, y_pred, average='weighted')"
      ],
      "execution_count": 195,
      "outputs": [
        {
          "output_type": "execute_result",
          "data": {
            "text/plain": [
              "0.5521640521640523"
            ]
          },
          "metadata": {
            "tags": []
          },
          "execution_count": 195
        }
      ]
    },
    {
      "cell_type": "markdown",
      "metadata": {
        "id": "8BaBrH-LfgdH"
      },
      "source": [
        "Random Forest"
      ]
    },
    {
      "cell_type": "code",
      "metadata": {
        "colab": {
          "base_uri": "https://localhost:8080/"
        },
        "id": "ZSy8xNT4ex-3",
        "outputId": "d96978a2-2e88-4ac4-f893-be54ad9fcf83"
      },
      "source": [
        "n_estimators = [5, 10, 100, 200, 500]\r\n",
        "max_depth = [None, 5, 10,15,20,25]\r\n",
        "min_samples_split = [0.1,0.25,0.5,1,2]\r\n",
        "hyperparameters = dict(n_estimators=n_estimators, max_depth=max_depth, min_samples_split=min_samples_split)\r\n",
        "rfc = RandomForestClassifier()\r\n",
        "clf = GridSearchCV(rfc, hyperparameters, cv=2, n_jobs=-1, verbose=10)\r\n",
        "best_model = clf.fit(X_train,y_train)\r\n",
        "print('Best n_estimators:', best_model.best_estimator_.get_params()['n_estimators'])\r\n",
        "print('Best max_depth:', best_model.best_estimator_.get_params()['max_depth'])\r\n",
        "print('Best min_samples_split:', best_model.best_estimator_.get_params()['min_samples_split'])"
      ],
      "execution_count": 196,
      "outputs": [
        {
          "output_type": "stream",
          "text": [
            "Fitting 2 folds for each of 150 candidates, totalling 300 fits\n"
          ],
          "name": "stdout"
        },
        {
          "output_type": "stream",
          "text": [
            "[Parallel(n_jobs=-1)]: Using backend LokyBackend with 2 concurrent workers.\n",
            "[Parallel(n_jobs=-1)]: Done   1 tasks      | elapsed:    0.0s\n",
            "[Parallel(n_jobs=-1)]: Batch computation too fast (0.0405s.) Setting batch_size=2.\n",
            "[Parallel(n_jobs=-1)]: Done   4 tasks      | elapsed:    0.1s\n",
            "[Parallel(n_jobs=-1)]: Done  14 tasks      | elapsed:    1.8s\n",
            "[Parallel(n_jobs=-1)]: Done  24 tasks      | elapsed:    3.7s\n",
            "[Parallel(n_jobs=-1)]: Done  38 tasks      | elapsed:    6.5s\n",
            "[Parallel(n_jobs=-1)]: Done  52 tasks      | elapsed:    8.1s\n",
            "[Parallel(n_jobs=-1)]: Done  70 tasks      | elapsed:   12.0s\n",
            "[Parallel(n_jobs=-1)]: Done  88 tasks      | elapsed:   14.8s\n",
            "[Parallel(n_jobs=-1)]: Done 110 tasks      | elapsed:   18.2s\n",
            "[Parallel(n_jobs=-1)]: Done 132 tasks      | elapsed:   22.2s\n",
            "[Parallel(n_jobs=-1)]: Done 158 tasks      | elapsed:   26.8s\n",
            "[Parallel(n_jobs=-1)]: Done 184 tasks      | elapsed:   31.1s\n",
            "[Parallel(n_jobs=-1)]: Done 214 tasks      | elapsed:   36.2s\n",
            "[Parallel(n_jobs=-1)]: Done 244 tasks      | elapsed:   41.4s\n",
            "[Parallel(n_jobs=-1)]: Done 278 tasks      | elapsed:   48.4s\n"
          ],
          "name": "stderr"
        },
        {
          "output_type": "stream",
          "text": [
            "Best n_estimators: 10\n",
            "Best max_depth: None\n",
            "Best min_samples_split: 2\n"
          ],
          "name": "stdout"
        },
        {
          "output_type": "stream",
          "text": [
            "[Parallel(n_jobs=-1)]: Done 300 out of 300 | elapsed:   52.3s finished\n"
          ],
          "name": "stderr"
        }
      ]
    },
    {
      "cell_type": "code",
      "metadata": {
        "colab": {
          "base_uri": "https://localhost:8080/"
        },
        "id": "5Cr2AFG5fjFJ",
        "outputId": "be6982ad-a160-41f6-fc85-85967072cd86"
      },
      "source": [
        "rfc = RandomForestClassifier(n_estimators=500, max_depth=20, min_samples_split=2)\r\n",
        "rfc.fit(X_train,y_train)\r\n",
        "y_pred = rfc.predict(X_test)\r\n",
        "rfc.score(X_test, y_test)"
      ],
      "execution_count": 197,
      "outputs": [
        {
          "output_type": "execute_result",
          "data": {
            "text/plain": [
              "0.5135135135135135"
            ]
          },
          "metadata": {
            "tags": []
          },
          "execution_count": 197
        }
      ]
    },
    {
      "cell_type": "code",
      "metadata": {
        "colab": {
          "base_uri": "https://localhost:8080/"
        },
        "id": "GB-nPwnKfjIK",
        "outputId": "337a59fb-1a1b-4e1b-b5b2-fa8a81032139"
      },
      "source": [
        "f1_score(y_test, y_pred, average='weighted')"
      ],
      "execution_count": 198,
      "outputs": [
        {
          "output_type": "execute_result",
          "data": {
            "text/plain": [
              "0.34845559845559837"
            ]
          },
          "metadata": {
            "tags": []
          },
          "execution_count": 198
        }
      ]
    },
    {
      "cell_type": "markdown",
      "metadata": {
        "id": "pAapmU5VfpNm"
      },
      "source": [
        " AdaBoost"
      ]
    },
    {
      "cell_type": "code",
      "metadata": {
        "colab": {
          "base_uri": "https://localhost:8080/"
        },
        "id": "plcmKn5ZfjK6",
        "outputId": "03c494a4-ceef-4ae5-e019-ac20b12e4169"
      },
      "source": [
        "n_estimators = [10, 50, 100, 500]\r\n",
        "learning_rate = [0.1, 0.5, 1, 2, 5, 10]\r\n",
        "algorithm = ['SAMME', 'SAMME.R']\r\n",
        "hyperparameters = dict(n_estimators=n_estimators, learning_rate=learning_rate, algorithm=algorithm)\r\n",
        "abc = AdaBoostClassifier()\r\n",
        "clf = GridSearchCV(abc, hyperparameters, cv=2, n_jobs=-1, verbose=10)\r\n",
        "best_model = clf.fit(X_train,y_train)\r\n",
        "print('Best n_estimators:', best_model.best_estimator_.get_params()['n_estimators'])\r\n",
        "print('Best learning_rate:', best_model.best_estimator_.get_params()['learning_rate'])\r\n",
        "print('Best algorithm:', best_model.best_estimator_.get_params()['algorithm'])"
      ],
      "execution_count": 199,
      "outputs": [
        {
          "output_type": "stream",
          "text": [
            "Fitting 2 folds for each of 48 candidates, totalling 96 fits\n"
          ],
          "name": "stdout"
        },
        {
          "output_type": "stream",
          "text": [
            "[Parallel(n_jobs=-1)]: Using backend LokyBackend with 2 concurrent workers.\n",
            "[Parallel(n_jobs=-1)]: Done   1 tasks      | elapsed:    0.0s\n",
            "[Parallel(n_jobs=-1)]: Batch computation too fast (0.0469s.) Setting batch_size=2.\n",
            "[Parallel(n_jobs=-1)]: Done   4 tasks      | elapsed:    0.2s\n",
            "[Parallel(n_jobs=-1)]: Done  14 tasks      | elapsed:    3.3s\n",
            "[Parallel(n_jobs=-1)]: Done  24 tasks      | elapsed:    4.9s\n",
            "[Parallel(n_jobs=-1)]: Done  38 tasks      | elapsed:    7.3s\n",
            "[Parallel(n_jobs=-1)]: Done  52 tasks      | elapsed:    7.8s\n",
            "[Parallel(n_jobs=-1)]: Done  70 tasks      | elapsed:   12.6s\n",
            "[Parallel(n_jobs=-1)]: Batch computation too slow (2.0957s.) Setting batch_size=1.\n",
            "[Parallel(n_jobs=-1)]: Done  82 tasks      | elapsed:   15.6s\n",
            "[Parallel(n_jobs=-1)]: Done  93 tasks      | elapsed:   18.5s\n",
            "[Parallel(n_jobs=-1)]: Done  96 out of  96 | elapsed:   20.0s finished\n"
          ],
          "name": "stderr"
        },
        {
          "output_type": "stream",
          "text": [
            "Best n_estimators: 100\n",
            "Best learning_rate: 1\n",
            "Best algorithm: SAMME\n"
          ],
          "name": "stdout"
        }
      ]
    },
    {
      "cell_type": "code",
      "metadata": {
        "colab": {
          "base_uri": "https://localhost:8080/"
        },
        "id": "NP4A0hMmfryH",
        "outputId": "bccd7bd1-28cc-485d-cc94-e11107bddc5b"
      },
      "source": [
        "abc = AdaBoostClassifier(n_estimators=500, learning_rate=1, algorithm='SAMME.R')\r\n",
        "abc.fit(X_train,y_train)\r\n",
        "y_pred = abc.predict(X_test)\r\n",
        "abc.score(X_test, y_test)"
      ],
      "execution_count": 200,
      "outputs": [
        {
          "output_type": "execute_result",
          "data": {
            "text/plain": [
              "0.6216216216216216"
            ]
          },
          "metadata": {
            "tags": []
          },
          "execution_count": 200
        }
      ]
    },
    {
      "cell_type": "code",
      "metadata": {
        "colab": {
          "base_uri": "https://localhost:8080/"
        },
        "id": "JCr3S5uCfr1Y",
        "outputId": "facb8787-41a4-4e1a-f2dd-5067630c2ca2"
      },
      "source": [
        "f1_score(y_test, y_pred, average='weighted')"
      ],
      "execution_count": 201,
      "outputs": [
        {
          "output_type": "execute_result",
          "data": {
            "text/plain": [
              "0.615990990990991"
            ]
          },
          "metadata": {
            "tags": []
          },
          "execution_count": 201
        }
      ]
    },
    {
      "cell_type": "markdown",
      "metadata": {
        "id": "LwTapShQfwbm"
      },
      "source": [
        "Gradient Boost"
      ]
    },
    {
      "cell_type": "code",
      "metadata": {
        "colab": {
          "base_uri": "https://localhost:8080/"
        },
        "id": "J67rSE-9fr4R",
        "outputId": "1387316d-6a60-4b08-dd10-4256b8a04e9f"
      },
      "source": [
        "learning_rate = [0.01, 0.1, 0.5]\r\n",
        "n_estimators = [100, 250, 500]\r\n",
        "max_depth = [3, 5, 7]\r\n",
        "hyperparameters = dict(learning_rate=learning_rate, n_estimators=n_estimators, max_depth=max_depth)\r\n",
        "gbc = GradientBoostingClassifier()\r\n",
        "clf = GridSearchCV(gbc, hyperparameters, cv=2, n_jobs=-1, verbose=10)\r\n",
        "best_model = clf.fit(X_train,y_train)\r\n",
        "print('Best learning_rate:', best_model.best_estimator_.get_params()['learning_rate'])\r\n",
        "print('Best n_estimators:', best_model.best_estimator_.get_params()['n_estimators'])\r\n",
        "print('Best max_depth:', best_model.best_estimator_.get_params()['max_depth'])"
      ],
      "execution_count": 202,
      "outputs": [
        {
          "output_type": "stream",
          "text": [
            "Fitting 2 folds for each of 27 candidates, totalling 54 fits\n"
          ],
          "name": "stdout"
        },
        {
          "output_type": "stream",
          "text": [
            "[Parallel(n_jobs=-1)]: Using backend LokyBackend with 2 concurrent workers.\n",
            "[Parallel(n_jobs=-1)]: Done   1 tasks      | elapsed:    0.6s\n",
            "[Parallel(n_jobs=-1)]: Done   4 tasks      | elapsed:    1.9s\n",
            "[Parallel(n_jobs=-1)]: Done   9 tasks      | elapsed:    6.6s\n",
            "[Parallel(n_jobs=-1)]: Done  14 tasks      | elapsed:   10.7s\n",
            "[Parallel(n_jobs=-1)]: Done  21 tasks      | elapsed:   18.0s\n",
            "[Parallel(n_jobs=-1)]: Done  28 tasks      | elapsed:   22.1s\n",
            "[Parallel(n_jobs=-1)]: Done  37 tasks      | elapsed:   28.4s\n",
            "[Parallel(n_jobs=-1)]: Done  46 tasks      | elapsed:   31.6s\n",
            "[Parallel(n_jobs=-1)]: Done  54 out of  54 | elapsed:   34.8s finished\n"
          ],
          "name": "stderr"
        },
        {
          "output_type": "stream",
          "text": [
            "Best learning_rate: 0.5\n",
            "Best n_estimators: 100\n",
            "Best max_depth: 3\n"
          ],
          "name": "stdout"
        }
      ]
    },
    {
      "cell_type": "code",
      "metadata": {
        "colab": {
          "base_uri": "https://localhost:8080/"
        },
        "id": "vOuu5XICf7lo",
        "outputId": "d999f07e-0abe-4f28-b296-b245ce2cf682"
      },
      "source": [
        "gbc = GradientBoostingClassifier(n_estimators=500, learning_rate=0.1, max_depth=3)\r\n",
        "gbc.fit(X_train,y_train)\r\n",
        "y_pred = gbc.predict(X_test)\r\n",
        "gbc.score(X_test, y_test)"
      ],
      "execution_count": 203,
      "outputs": [
        {
          "output_type": "execute_result",
          "data": {
            "text/plain": [
              "0.6216216216216216"
            ]
          },
          "metadata": {
            "tags": []
          },
          "execution_count": 203
        }
      ]
    },
    {
      "cell_type": "code",
      "metadata": {
        "colab": {
          "base_uri": "https://localhost:8080/"
        },
        "id": "kPrAj01cf7vU",
        "outputId": "d1d172d3-2586-4b98-8008-285b044bf830"
      },
      "source": [
        "f1_score(y_test, y_pred, average='weighted')"
      ],
      "execution_count": 204,
      "outputs": [
        {
          "output_type": "execute_result",
          "data": {
            "text/plain": [
              "0.5724324324324325"
            ]
          },
          "metadata": {
            "tags": []
          },
          "execution_count": 204
        }
      ]
    },
    {
      "cell_type": "markdown",
      "metadata": {
        "id": "Kmz4VDLwgCjH"
      },
      "source": [
        "Best model by f1-score - GradientBoostingClassifier¶"
      ]
    },
    {
      "cell_type": "code",
      "metadata": {
        "colab": {
          "base_uri": "https://localhost:8080/"
        },
        "id": "6Lnd6iPwgDMF",
        "outputId": "8245d1c5-25c1-45ac-edc5-eae62206c2ae"
      },
      "source": [
        "print(classification_report(y_test, y_pred))"
      ],
      "execution_count": 205,
      "outputs": [
        {
          "output_type": "stream",
          "text": [
            "              precision    recall  f1-score   support\n",
            "\n",
            "           0       0.83      0.28      0.42        18\n",
            "           2       0.58      0.95      0.72        19\n",
            "\n",
            "    accuracy                           0.62        37\n",
            "   macro avg       0.71      0.61      0.57        37\n",
            "weighted avg       0.70      0.62      0.57        37\n",
            "\n"
          ],
          "name": "stdout"
        }
      ]
    },
    {
      "cell_type": "code",
      "metadata": {
        "colab": {
          "base_uri": "https://localhost:8080/"
        },
        "id": "riKCmWTCgDQX",
        "outputId": "9fd1ddae-dbf8-49cb-fbfa-3912e01fc366"
      },
      "source": [
        "print(confusion_matrix(y_test, y_pred))"
      ],
      "execution_count": 206,
      "outputs": [
        {
          "output_type": "stream",
          "text": [
            "[[ 5 13]\n",
            " [ 1 18]]\n"
          ],
          "name": "stdout"
        }
      ]
    },
    {
      "cell_type": "markdown",
      "metadata": {
        "id": "BxNloksxeNwW"
      },
      "source": [
        ""
      ]
    }
  ]
}